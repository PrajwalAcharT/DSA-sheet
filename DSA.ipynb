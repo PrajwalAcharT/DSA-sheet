{
 "cells": [
  {
   "cell_type": "markdown",
   "metadata": {},
   "source": [
    "# Array\n"
   ]
  },
  {
   "cell_type": "code",
   "execution_count": 5,
   "metadata": {},
   "outputs": [
    {
     "name": "stdout",
     "output_type": "stream",
     "text": [
      "array('i', [1, 2, 3, 4, 2, 4])\n"
     ]
    }
   ],
   "source": [
    "import array\n",
    "\n",
    "my_array=array.array('i',[1,2,3,4,2,4])\n",
    "\n",
    "print(my_array)"
   ]
  },
  {
   "cell_type": "code",
   "execution_count": 11,
   "metadata": {},
   "outputs": [
    {
     "name": "stdout",
     "output_type": "stream",
     "text": [
      "array('i', [6, 1, 2, 5, 8, 752])\n"
     ]
    }
   ],
   "source": [
    "import array\n",
    "\n",
    "my_array=array.array('i',[1,2,5,8,752])\n",
    "\n",
    "my_array.insert(0,6)\n",
    "print(my_array)"
   ]
  },
  {
   "cell_type": "markdown",
   "metadata": {},
   "source": [
    " Time coplexity 0(n)"
   ]
  },
  {
   "cell_type": "markdown",
   "metadata": {},
   "source": [
    "Traverse arraty\n"
   ]
  },
  {
   "cell_type": "code",
   "execution_count": 13,
   "metadata": {},
   "outputs": [
    {
     "name": "stdout",
     "output_type": "stream",
     "text": [
      "array('i', [1, 2, 3, 4, 2, 4])\n",
      "1\n",
      "2\n",
      "3\n",
      "4\n",
      "2\n",
      "4\n"
     ]
    }
   ],
   "source": [
    "import array\n",
    "\n",
    "my_array=array.array('i',[1,2,3,4,2,4])\n",
    "\n",
    "print(my_array)\n",
    "\n",
    "def traversearray(elements):\n",
    "    for i in elements:\n",
    "        print(i)\n",
    "traversearray(my_array)\n",
    "\n",
    "# time complexity o(n)\n"
   ]
  },
  {
   "cell_type": "code",
   "execution_count": 18,
   "metadata": {},
   "outputs": [
    {
     "name": "stdout",
     "output_type": "stream",
     "text": [
      "array('i', [1, 2, 3, 4, 2, 4])\n"
     ]
    }
   ],
   "source": [
    "# write a  function to find array of an index\n",
    "import array\n",
    "\n",
    "my_array=array.array('i',[1,2,3,4,2,4])\n",
    "\n",
    "print(my_array)\n",
    "\n",
    "def accessindex(array,index):\n",
    "    if index > len(array):\n",
    "        print(\"There is no elemenrt in tyhart index\")\n",
    "    else:\n",
    "        print(array[index])\n",
    "\n",
    "n=int(input(\"please enter tyhe eolement\"))\n",
    "\n",
    "accessindex(my_array,n)"
   ]
  },
  {
   "cell_type": "code",
   "execution_count": 5,
   "metadata": {},
   "outputs": [
    {
     "name": "stdout",
     "output_type": "stream",
     "text": [
      "array('i', [1, 2, 3, 4, 2, 4])\n",
      "there is no such element found\n",
      "element is found [1]\n",
      "there is no such element found\n",
      "there is no such element found\n",
      "element is found [4]\n",
      "there is no such element found\n"
     ]
    }
   ],
   "source": [
    "import array\n",
    "\n",
    "my_array=array.array('i',[1,2,3,4,2,4])\n",
    "\n",
    "print(my_array)\n",
    "\n",
    "key = int(input(\"please enter tyhe elemtent to find\"))\n",
    "\n",
    "for i in range (len(my_array)):\n",
    "    if key == my_array[i]:\n",
    "      print(\"element is found\",[i])\n",
    "    else:\n",
    "       print(\"there is no such element found\")"
   ]
  },
  {
   "cell_type": "code",
   "execution_count": 4,
   "metadata": {},
   "outputs": [
    {
     "name": "stdout",
     "output_type": "stream",
     "text": [
      "array('i', [1, 2, 3, 4, 2, 4])\n",
      "3\n"
     ]
    }
   ],
   "source": [
    "import array\n",
    "\n",
    "my_array=array.array('i',[1,2,3,4,2,4])\n",
    "print(my_array)\n",
    "\n",
    "\n",
    "def linear_search(array1,key):\n",
    "    for i in range(0,len(array1)):\n",
    "        if array1[i]==key:\n",
    "            return i\n",
    "    else:\n",
    "          return -1\n",
    "    \n",
    "key = int(input(\"please enter the elemtent to find\"))\n",
    "print(linear_search(my_array,key))"
   ]
  },
  {
   "cell_type": "markdown",
   "metadata": {},
   "source": [
    "# Reverse the array\n"
   ]
  },
  {
   "cell_type": "code",
   "execution_count": 4,
   "metadata": {},
   "outputs": [],
   "source": [
    "#k=[starting:ending:steps]\n",
    "k=\"GREEKS\"\n",
    "\n",
    "def reverse(s):\n",
    " k=s[::-1]\n",
    " return k\n",
    "\n",
    "\n",
    "reverse(k)\n",
    "\n"
   ]
  },
  {
   "cell_type": "code",
   "execution_count": 1,
   "metadata": {},
   "outputs": [
    {
     "name": "stdout",
     "output_type": "stream",
     "text": [
      "SKEERG\n"
     ]
    }
   ],
   "source": [
    "k=\"GREEKS\"\n",
    "\n",
    "def reverseworld(s):\n",
    " l=list(s)\n",
    " l.reverse()\n",
    " return \"\".join(l)\n",
    "\n",
    "print(reverseworld(k))"
   ]
  },
  {
   "cell_type": "markdown",
   "metadata": {},
   "source": [
    "# Sum of miniomum and maximum elements in an array\n"
   ]
  },
  {
   "cell_type": "code",
   "execution_count": 1,
   "metadata": {},
   "outputs": [],
   "source": [
    "from array import *\n",
    "\n",
    "my_array=array('i',[])\n",
    "n=int(input(\"Enter the size of array: \"))\n",
    "for i in range(n):\n",
    "  X=int(input(\"please enter the value\"))\n",
    "  my_array.append(X)\n",
    "print(my_array)\n",
    "print(min(my_array),max(my_array))\n",
    "\n",
    "\n",
    "def sum_of_min_max(my_array,n1): \n",
    "  if n==1:\n",
    "    return my_array[0]\n",
    "  \n",
    "  if my_array[0]>my_array[1]:\n",
    "      max_val=my_array[0]\n",
    "      min_val=my_array[1]\n",
    "  else:\n",
    "    max_val=my_array[1]\n",
    "    min_val=my_array[0]\n",
    "\n",
    "  for i in range(2,n):\n",
    "    if my_array[i]>max_val:  \n",
    "      max_val=my_array[i] \n",
    "    elif my_array[i]<min_val:\n",
    "      min_val=my_array[i]\n",
    "  return max_val+min_val\n",
    "\n",
    "n=len(my_array)  \n",
    "value= sum_of_min_max(my_array,n)\n",
    "print(value)"
   ]
  },
  {
   "cell_type": "markdown",
   "metadata": {},
   "source": [
    "# kth smallest element find\n"
   ]
  },
  {
   "cell_type": "code",
   "execution_count": 17,
   "metadata": {},
   "outputs": [],
   "source": [
    "\n",
    "from array import *\n",
    "\n",
    "my_array=array('i',[])\n",
    "n=int(input(\"Enter the size of array: \"))\n",
    "for i in range(n):\n",
    "  X=int(input(\"please enter the value\"))\n",
    "  my_array.append(X)\n",
    "print(my_array)\n",
    "k = int(input(\"Enter the value of k: \"))\n",
    "\n",
    "def kth_smallest(arr, K):\n",
    "  sorted_arr = sorted(arr)\n",
    "  return sorted_arr[K-1]\n",
    "\n",
    "print(kth_smallest(my_array, k))"
   ]
  },
  {
   "cell_type": "code",
   "execution_count": 11,
   "metadata": {},
   "outputs": [
    {
     "name": "stdout",
     "output_type": "stream",
     "text": [
      "array('i', [0, 1, 2, 0, 1])\n",
      "2 2 1\n",
      "array('i', [0, 0, 1, 1, 2])\n"
     ]
    }
   ],
   "source": [
    "from array import *\n",
    "\n",
    "my_array=array('i',[])\n",
    "n=int(input(\"Enter the size of array: \"))\n",
    "\n",
    "for i in range(n):\n",
    "  X=int(input(\"please enter the value\"))\n",
    "  my_array.append(X)\n",
    "print(my_array)\n",
    "\n",
    "count1=0\n",
    "count2=0\n",
    "count3=0\n",
    "\n",
    "for i in range(len(my_array)):\n",
    "    if my_array[i]==0:\n",
    "        count1+=1\n",
    "    elif my_array[i]==1:\n",
    "        count2+=1\n",
    "    elif my_array[i]==2:\n",
    "        count3+=1\n",
    "\n",
    "print(count1,count2,count3)\n",
    "\n",
    "i=0\n",
    "arr=array('i',[])\n",
    "while(count1>0):\n",
    "    arr.append(0)\n",
    "    count1-=1\n",
    "while(count2>0):\n",
    "    arr.append(1)\n",
    "    count2-=1\n",
    "while(count3>0):\n",
    "   arr.append(2)\n",
    "   count3-=1\n",
    "print(arr)\n",
    "\n"
   ]
  },
  {
   "cell_type": "markdown",
   "metadata": {},
   "source": [
    "# Move all the negetive elements in one side\n"
   ]
  },
  {
   "cell_type": "code",
   "execution_count": 1,
   "metadata": {},
   "outputs": [],
   "source": [
    "from array import *\n",
    "my_array=array('i',[])\n",
    "\n",
    "n=int(input(\"Enter the size of array: \"))\n",
    "\n",
    "for i in range(n):\n",
    "    x=int(input(\"Please enter the value: \"))\n",
    "    my_array.append(x)\n",
    "\n",
    "print(my_array)\n",
    "\n",
    "def partition(array):\n",
    "   j=0\n",
    "   for i in range(0,len(my_array)):\n",
    "     if(my_array[i] < 0):\n",
    "        temp=my_array[i]\n",
    "        array[i]=my_array[j]\n",
    "        array[j]=temp\n",
    "        j=j+1\n",
    "   return  array\n",
    "\n",
    "print(partition(my_array))"
   ]
  },
  {
   "cell_type": "markdown",
   "metadata": {},
   "source": [
    "# STRINGS\n"
   ]
  },
  {
   "cell_type": "code",
   "execution_count": 10,
   "metadata": {},
   "outputs": [
    {
     "name": "stdout",
     "output_type": "stream",
     "text": [
      "The sub_string is not in the string\n"
     ]
    }
   ],
   "source": [
    "#checking the string containing suibstring or not\n",
    "\n",
    "string = \"greeks for greeks\"\n",
    "sub_string = \"geeks\"\n",
    "\n",
    "def finding(string, sub_string):\n",
    "    if sub_string in string:\n",
    "        print(\"The sub_string is in the string\")\n",
    "    else:\n",
    "        print(\"The sub_string is not in the string\")\n",
    "\n",
    "\n",
    "finding(string, sub_string)\n"
   ]
  },
  {
   "cell_type": "code",
   "execution_count": 2,
   "metadata": {},
   "outputs": [
    {
     "name": "stdout",
     "output_type": "stream",
     "text": [
      "greeksforgreeks\n"
     ]
    }
   ],
   "source": [
    "# reverse the words in a string\n",
    "\n",
    "str=\"greeks for greeks\"\n",
    "\n",
    "s= str.split()[::-1]\n",
    "l=[]\n",
    "\n",
    "for i in  s:\n",
    "  l.append(i)\n",
    "\n",
    "print(\"\".join(l))\n",
    "\n"
   ]
  },
  {
   "cell_type": "markdown",
   "metadata": {},
   "source": [
    "# PATTERN PROGRAMMING"
   ]
  },
  {
   "cell_type": "markdown",
   "metadata": {},
   "source": [
    "1.for outer loop count the number of lines\n",
    "2.For inner loop focus on columns and connect them somehow to the rows\n",
    "3.print formats inside the inner loop\n",
    "4.observe symetry"
   ]
  },
  {
   "cell_type": "code",
   "execution_count": 22,
   "metadata": {},
   "outputs": [
    {
     "name": "stdout",
     "output_type": "stream",
     "text": [
      "*****\n",
      "*****\n",
      "*****\n",
      "*****\n",
      "*****\n",
      " \n"
     ]
    }
   ],
   "source": [
    "def pattern(n):\n",
    "    for i in range (n): \n",
    "      for j in range (n):\n",
    "            print(\"*\", end=\"\")\n",
    "      print()\n",
    "    return (\" \")      \n",
    "value=int(input(\"please enter the number of values\"))\n",
    "print(pattern(value))"
   ]
  },
  {
   "cell_type": "code",
   "execution_count": 5,
   "metadata": {},
   "outputs": [
    {
     "name": "stdout",
     "output_type": "stream",
     "text": [
      "array('i', [45, 4521, 498, 216, 54])\n",
      "maximunm elements 4521\n"
     ]
    }
   ],
   "source": [
    "# finding the largest element in an array\n",
    "from array import *\n",
    "my_array=array('i',[])\n",
    "n=int(input(\"Enter the size of array: \"))\n",
    "\n",
    "for i in range(n):\n",
    "  X=int(input(\"please enter the value\"))\n",
    "  my_array.append(X)\n",
    "print(my_array)\n",
    "\n",
    "sorted_array = sorted(my_array)\n",
    "\n",
    "print(\"maximunm elements\",sorted_array[n-1])\n",
    "\n",
    "\n"
   ]
  },
  {
   "cell_type": "markdown",
   "metadata": {},
   "source": [
    "# insertion sort"
   ]
  },
  {
   "cell_type": "code",
   "execution_count": 3,
   "metadata": {},
   "outputs": [
    {
     "name": "stdout",
     "output_type": "stream",
     "text": [
      "sorted array\n",
      "21 25 45 54 65 87 "
     ]
    }
   ],
   "source": [
    "a=[54,65,87,45,21,25]\n",
    "\n",
    "for i in range(len(a)-1):\n",
    "  min_idx =i\n",
    "  for j in range(i+1,len(a)):\n",
    "    if a[j] < a[min_idx]:\n",
    "      min_idx =j\n",
    "\n",
    "  a[i],a[min_idx] = a[min_idx],a[i]\n",
    "\n",
    "print(\"sorted array\")\n",
    "for i in range(len(a)):\n",
    " print(a[i],end=\" \")\n",
    "       "
   ]
  },
  {
   "cell_type": "markdown",
   "metadata": {},
   "source": [
    "# Bubble Sort\n"
   ]
  },
  {
   "cell_type": "code",
   "execution_count": 3,
   "metadata": {},
   "outputs": [
    {
     "name": "stdout",
     "output_type": "stream",
     "text": [
      "sortted array\n",
      "21\n",
      "25\n",
      "45\n",
      "54\n",
      "65\n",
      "87\n"
     ]
    }
   ],
   "source": [
    "a=[54,65,87,45,21,25]\n",
    "\n",
    "def bubblesort(a):\n",
    "    n=len(a)\n",
    "    for i in range(n):\n",
    "        swapped = False\n",
    "        for j in range(0,n-i-1):\n",
    "            if a[j]>a[j+1]:\n",
    "             a[j],a[j+1]=a[j+1],a[j]\n",
    "             swapped=True\n",
    "        if (swapped==false):\n",
    "           bubblesort(a)\n",
    "\n",
    "print(\"sortted array\")\n",
    "for i in a:\n",
    "   print(i)\n",
    "\n"
   ]
  },
  {
   "cell_type": "markdown",
   "metadata": {},
   "source": [
    "# selection sort"
   ]
  },
  {
   "cell_type": "code",
   "execution_count": 9,
   "metadata": {},
   "outputs": [],
   "source": [
    "class Solution:\n",
    "    def select(self, arr, i):\n",
    "        # Function to select the minimum element starting from index i\n",
    "        min_idx = i\n",
    "        for j in range(i+1, len(arr)):\n",
    "            if arr[j] < arr[min_idx]:\n",
    "                min_idx = j\n",
    "        return min_idx\n",
    "    \n",
    "    def selectionSort(self, arr, n):\n",
    "        # Perform selection sort\n",
    "        for i in range(n):\n",
    "            # Select the minimum element in the unsorted part\n",
    "            min_idx = self.select(arr, i)\n",
    "            # Swap the found minimum element with the first element of the unsorted part\n",
    "            arr[i], arr[min_idx] = arr[min_idx], arr[i]\n",
    "\n",
    "# Example usage:\n",
    "arr = [4, 1, 3, 9, 7]\n",
    "n = len(arr)\n",
    "\n",
    "sol = Solution()\n",
    "sol.selectionSort(arr, n)\n"
   ]
  },
  {
   "cell_type": "code",
   "execution_count": null,
   "metadata": {},
   "outputs": [],
   "source": []
  }
 ],
 "metadata": {
  "kernelspec": {
   "display_name": "Python 3",
   "language": "python",
   "name": "python3"
  },
  "language_info": {
   "codemirror_mode": {
    "name": "ipython",
    "version": 3
   },
   "file_extension": ".py",
   "mimetype": "text/x-python",
   "name": "python",
   "nbconvert_exporter": "python",
   "pygments_lexer": "ipython3",
   "version": "3.12.0"
  }
 },
 "nbformat": 4,
 "nbformat_minor": 2
}
